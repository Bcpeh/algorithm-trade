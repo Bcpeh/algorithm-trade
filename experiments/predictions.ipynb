{
 "cells": [
  {
   "cell_type": "code",
   "execution_count": 6,
   "metadata": {},
   "outputs": [],
   "source": [
    "import numpy as np\n",
    "import pandas as pd\n",
    "import matplotlib.pyplot as plt\n",
    "import alpaca_trade_api as tradeapi\n",
    "import json\n",
    "import os\n",
    "from sklearn.preprocessing import MinMaxScaler\n",
    "from tensorflow.keras.models import Sequential\n",
    "from tensorflow.keras.layers import LSTM, Dense\n",
    "from tensorflow.keras.optimizers import Adam"
   ]
  },
  {
   "cell_type": "code",
   "execution_count": 4,
   "metadata": {},
   "outputs": [
    {
     "name": "stdout",
     "output_type": "stream",
     "text": [
      "c:\\Users\\pehbo\\projects\\algo\n"
     ]
    }
   ],
   "source": [
    "os.chdir('../')\n",
    "print(os.getcwd())"
   ]
  },
  {
   "cell_type": "code",
   "execution_count": 7,
   "metadata": {},
   "outputs": [],
   "source": [
    "# Replace with your own API key and secret\n",
    "with open('secrets/secrets.json') as f:\n",
    "    secrets = json.load(f)\n",
    "API_KEY = secrets['KEY']\n",
    "API_SECRET = secrets['SECRET']\n",
    "BASE_URL = 'https://paper-api.alpaca.markets'  # For paper trading, use the paper trading URL\n",
    "\n",
    "# Set up the Alpaca API client\n",
    "api = tradeapi.REST(API_KEY, API_SECRET, base_url=BASE_URL, api_version='v2')"
   ]
  },
  {
   "cell_type": "code",
   "execution_count": 8,
   "metadata": {},
   "outputs": [],
   "source": [
    "symbol = 'TSLA'\n",
    "start_date = '2010-01-01'\n",
    "end_date = '2023-03-25'\n",
    "\n",
    "historical_data = api.get_bars(symbol, tradeapi.rest.TimeFrame.Day, start=start_date, end=end_date).df"
   ]
  },
  {
   "cell_type": "code",
   "execution_count": null,
   "metadata": {},
   "outputs": [],
   "source": [
    "# Function to create input-output sequence for the LSTM model\n",
    "def create_sequence(data, window_size):\n",
    "    X, y = [], []\n",
    "    for i in range(len(data) - window_size):\n",
    "        X.append(data[i:i + window_size])\n",
    "        y.append(data[i + window_size])\n",
    "    return np.array(X), np.array(y)\n",
    "\n",
    "def predict_next_closing_price(model, data, scaler, window_size):\n",
    "    latest_data = data[-window_size:]\n",
    "    scaled_data = scaler.transform(latest_data)\n",
    "    input_data = np.reshape(scaled_data, (1, window_size, 1))\n",
    "    prediction = model.predict(input_data)\n",
    "    return scaler.inverse_transform(prediction)[0, 0]"
   ]
  },
  {
   "cell_type": "code",
   "execution_count": 9,
   "metadata": {},
   "outputs": [
    {
     "name": "stdout",
     "output_type": "stream",
     "text": [
      "Epoch 1/50\n",
      "44/44 [==============================] - 8s 89ms/step - loss: 0.0463 - val_loss: 0.0067\n",
      "Epoch 2/50\n",
      "44/44 [==============================] - 4s 91ms/step - loss: 0.0021 - val_loss: 0.0060\n",
      "Epoch 3/50\n",
      "44/44 [==============================] - 5s 115ms/step - loss: 0.0012 - val_loss: 0.0072\n",
      "Epoch 4/50\n",
      "44/44 [==============================] - 4s 97ms/step - loss: 9.5328e-04 - val_loss: 0.0083\n",
      "Epoch 5/50\n",
      "44/44 [==============================] - 5s 115ms/step - loss: 8.9298e-04 - val_loss: 0.0063\n",
      "Epoch 6/50\n",
      "44/44 [==============================] - 5s 103ms/step - loss: 8.8796e-04 - val_loss: 0.0039\n",
      "Epoch 7/50\n",
      "44/44 [==============================] - 5s 111ms/step - loss: 9.2638e-04 - val_loss: 0.0032\n",
      "Epoch 8/50\n",
      "44/44 [==============================] - 4s 97ms/step - loss: 7.8601e-04 - val_loss: 0.0030\n",
      "Epoch 9/50\n",
      "44/44 [==============================] - 5s 108ms/step - loss: 7.5465e-04 - val_loss: 0.0024\n",
      "Epoch 10/50\n",
      "44/44 [==============================] - 5s 107ms/step - loss: 7.3795e-04 - val_loss: 0.0025\n",
      "Epoch 11/50\n",
      "44/44 [==============================] - 4s 102ms/step - loss: 7.0171e-04 - val_loss: 0.0020\n",
      "Epoch 12/50\n",
      "44/44 [==============================] - 5s 108ms/step - loss: 6.5482e-04 - val_loss: 0.0017\n",
      "Epoch 13/50\n",
      "44/44 [==============================] - 4s 103ms/step - loss: 6.3874e-04 - val_loss: 0.0020\n",
      "Epoch 14/50\n",
      "44/44 [==============================] - 4s 92ms/step - loss: 7.0281e-04 - val_loss: 0.0031\n",
      "Epoch 15/50\n",
      "44/44 [==============================] - 4s 92ms/step - loss: 6.3418e-04 - val_loss: 0.0015\n",
      "Epoch 16/50\n",
      "44/44 [==============================] - 5s 117ms/step - loss: 6.0320e-04 - val_loss: 0.0024\n",
      "Epoch 17/50\n",
      "44/44 [==============================] - 4s 96ms/step - loss: 6.2048e-04 - val_loss: 0.0016\n",
      "Epoch 18/50\n",
      "44/44 [==============================] - 4s 97ms/step - loss: 6.5797e-04 - val_loss: 0.0017\n",
      "Epoch 19/50\n",
      "44/44 [==============================] - 4s 90ms/step - loss: 5.2641e-04 - val_loss: 0.0014\n",
      "Epoch 20/50\n",
      "44/44 [==============================] - 4s 92ms/step - loss: 5.1217e-04 - val_loss: 0.0014\n",
      "Epoch 21/50\n",
      "44/44 [==============================] - 4s 88ms/step - loss: 4.6378e-04 - val_loss: 0.0018\n",
      "Epoch 22/50\n",
      "44/44 [==============================] - 4s 90ms/step - loss: 4.5702e-04 - val_loss: 0.0015\n",
      "Epoch 23/50\n",
      "44/44 [==============================] - 4s 89ms/step - loss: 4.4040e-04 - val_loss: 0.0015\n",
      "Epoch 24/50\n",
      "44/44 [==============================] - 4s 95ms/step - loss: 4.2006e-04 - val_loss: 0.0012\n",
      "Epoch 25/50\n",
      "44/44 [==============================] - 4s 92ms/step - loss: 4.9623e-04 - val_loss: 0.0015\n",
      "Epoch 26/50\n",
      "44/44 [==============================] - 4s 86ms/step - loss: 3.9752e-04 - val_loss: 0.0014\n",
      "Epoch 27/50\n",
      "44/44 [==============================] - 4s 92ms/step - loss: 3.7709e-04 - val_loss: 0.0023\n",
      "Epoch 28/50\n",
      "44/44 [==============================] - 4s 92ms/step - loss: 4.7449e-04 - val_loss: 0.0012\n",
      "Epoch 29/50\n",
      "44/44 [==============================] - 4s 89ms/step - loss: 3.6454e-04 - val_loss: 0.0011\n",
      "Epoch 30/50\n",
      "44/44 [==============================] - 4s 89ms/step - loss: 3.6769e-04 - val_loss: 0.0013\n",
      "Epoch 31/50\n",
      "44/44 [==============================] - 4s 89ms/step - loss: 3.3557e-04 - val_loss: 0.0010\n",
      "Epoch 32/50\n",
      "44/44 [==============================] - 4s 90ms/step - loss: 3.9953e-04 - val_loss: 0.0022\n",
      "Epoch 33/50\n",
      "44/44 [==============================] - 4s 88ms/step - loss: 3.6538e-04 - val_loss: 9.4809e-04\n",
      "Epoch 34/50\n",
      "44/44 [==============================] - 4s 89ms/step - loss: 3.5146e-04 - val_loss: 0.0015\n",
      "Epoch 35/50\n",
      "44/44 [==============================] - 4s 94ms/step - loss: 3.3436e-04 - val_loss: 0.0028\n",
      "Epoch 36/50\n",
      "44/44 [==============================] - 4s 90ms/step - loss: 4.0346e-04 - val_loss: 0.0036\n",
      "Epoch 37/50\n",
      "44/44 [==============================] - 4s 91ms/step - loss: 4.1952e-04 - val_loss: 0.0022\n",
      "Epoch 38/50\n",
      "44/44 [==============================] - 4s 94ms/step - loss: 3.2426e-04 - val_loss: 8.4233e-04\n",
      "Epoch 39/50\n",
      "44/44 [==============================] - 4s 90ms/step - loss: 2.7628e-04 - val_loss: 8.4149e-04\n",
      "Epoch 40/50\n",
      "44/44 [==============================] - 4s 89ms/step - loss: 2.7411e-04 - val_loss: 0.0020\n",
      "Epoch 41/50\n",
      "44/44 [==============================] - 4s 98ms/step - loss: 3.3513e-04 - val_loss: 8.5967e-04\n",
      "Epoch 42/50\n",
      "44/44 [==============================] - 5s 106ms/step - loss: 2.6270e-04 - val_loss: 0.0010\n",
      "Epoch 43/50\n",
      "44/44 [==============================] - 4s 89ms/step - loss: 2.5657e-04 - val_loss: 8.5705e-04\n",
      "Epoch 44/50\n",
      "44/44 [==============================] - 4s 95ms/step - loss: 3.6716e-04 - val_loss: 0.0012\n",
      "Epoch 45/50\n",
      "44/44 [==============================] - 4s 92ms/step - loss: 2.6659e-04 - val_loss: 7.8880e-04\n",
      "Epoch 46/50\n",
      "44/44 [==============================] - 4s 90ms/step - loss: 3.1682e-04 - val_loss: 0.0026\n",
      "Epoch 47/50\n",
      "44/44 [==============================] - 4s 88ms/step - loss: 3.4237e-04 - val_loss: 7.5212e-04\n",
      "Epoch 48/50\n",
      "44/44 [==============================] - 4s 95ms/step - loss: 2.3350e-04 - val_loss: 0.0011\n",
      "Epoch 49/50\n",
      "44/44 [==============================] - 4s 90ms/step - loss: 2.8687e-04 - val_loss: 8.2178e-04\n",
      "Epoch 50/50\n",
      "44/44 [==============================] - 4s 92ms/step - loss: 2.3867e-04 - val_loss: 0.0017\n",
      "1/1 [==============================] - 1s 540ms/step\n",
      "Predicted next closing price: 388.87322998046875\n"
     ]
    }
   ],
   "source": [
    "dates = historical_data.index\n",
    "\n",
    "# Preprocess the data\n",
    "close_prices = historical_data['close'].values.reshape(-1, 1)\n",
    "scaler = MinMaxScaler(feature_range=(0, 1))\n",
    "scaled_close_prices = scaler.fit_transform(close_prices)\n",
    "\n",
    "\n"
   ]
  },
  {
   "cell_type": "code",
   "execution_count": null,
   "metadata": {},
   "outputs": [],
   "source": [
    "# Create the input-output sequences for the LSTM model\n",
    "window_size = 60\n",
    "X, y = create_sequence(scaled_close_prices, window_size)\n",
    "\n",
    "# Split the data into training (80%) and testing (20%) sets\n",
    "train_size = int(len(X) * 0.8)\n",
    "X_train, X_test = X[:train_size], X[train_size:]\n",
    "y_train, y_test = y[:train_size], y[train_size:]\n",
    "\n",
    "# Build the LSTM model\n",
    "model = Sequential([\n",
    "    LSTM(units=50, activation='relu', input_shape=(window_size, 1), return_sequences=True),\n",
    "    LSTM(units=50, activation='relu', return_sequences=True),\n",
    "    LSTM(units=50, activation='relu'),\n",
    "    Dense(units=1)\n",
    "])\n",
    "\n",
    "# Compile and train the model\n",
    "model.compile(optimizer=Adam(learning_rate=0.001), loss='mean_squared_error')\n",
    "model.fit(X_train, y_train, epochs=50, batch_size=32, validation_data=(X_test, y_test))\n",
    "\n"
   ]
  },
  {
   "cell_type": "code",
   "execution_count": null,
   "metadata": {},
   "outputs": [],
   "source": [
    "# Predict the next closing price\n",
    "next_closing_price = predict_next_closing_price(model, close_prices, scaler, window_size)\n",
    "print(f'Predicted next closing price: {next_closing_price}')"
   ]
  }
 ],
 "metadata": {
  "kernelspec": {
   "display_name": "algo",
   "language": "python",
   "name": "python3"
  },
  "language_info": {
   "codemirror_mode": {
    "name": "ipython",
    "version": 3
   },
   "file_extension": ".py",
   "mimetype": "text/x-python",
   "name": "python",
   "nbconvert_exporter": "python",
   "pygments_lexer": "ipython3",
   "version": "3.9.16"
  },
  "orig_nbformat": 4
 },
 "nbformat": 4,
 "nbformat_minor": 2
}
